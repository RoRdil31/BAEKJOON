{
 "cells": [
  {
   "cell_type": "code",
   "execution_count": 13,
   "metadata": {},
   "outputs": [
    {
     "name": "stdout",
     "output_type": "stream",
     "text": [
      "[1]\n",
      "[1]\n"
     ]
    }
   ],
   "source": [
    "def DFS_(s):\n",
    "    ans_dfs.append(s) # 방문 node 추가\n",
    "    visited[s] = 1 # 방문 표시\n",
    "    \n",
    "    for n in adj[s]:\n",
    "        if not visited[n]:\n",
    "            DFS_(n)\n",
    "    \n",
    "    \n",
    "    \n",
    "def BFS_(s):\n",
    "    q = []\n",
    "    \n",
    "    q.append(s)\n",
    "    ans_bfs.append(s)\n",
    "    visited[s] = 1\n",
    "    \n",
    "    while q: # 처음엔 1만 있었는데 아래 과정들 때문에 실시간으로 2 3 4가 채워져서 안 끝나고 계속 돎.\n",
    "        # print(q)\n",
    "        c = q.pop(0)\n",
    "        for n in adj[c]:\n",
    "            if not visited[n]:\n",
    "                q.append(n)\n",
    "                ans_bfs.append(n)\n",
    "                visited[n] = 1\n",
    "\n",
    "\n",
    "\n",
    "n,m,V = map(int,input().split(' '))\n",
    "adj = [[] for _ in range(n+1)]\n",
    "for _ in range(m):\n",
    "    s,e = map(int,input().split(' '))\n",
    "    adj[s].append(e)\n",
    "    adj[e].append(s)\n",
    "\n",
    "for i in range(1,n+1):\n",
    "    adj[i].sort()\n",
    "    \n",
    "visited = [0]*(n+1)\n",
    "ans_dfs = []\n",
    "DFS_(V)\n",
    "print(ans_dfs)\n",
    "\n",
    "\n",
    "visited = [0]*(n+1)\n",
    "ans_bfs = []\n",
    "BFS_(V)\n",
    "print(ans_bfs)\n",
    "\n",
    "\n"
   ]
  },
  {
   "cell_type": "code",
   "execution_count": null,
   "metadata": {},
   "outputs": [],
   "source": []
  }
 ],
 "metadata": {
  "kernelspec": {
   "display_name": "Python 3",
   "language": "python",
   "name": "python3"
  },
  "language_info": {
   "codemirror_mode": {
    "name": "ipython",
    "version": 3
   },
   "file_extension": ".py",
   "mimetype": "text/x-python",
   "name": "python",
   "nbconvert_exporter": "python",
   "pygments_lexer": "ipython3",
   "version": "3.11.8"
  }
 },
 "nbformat": 4,
 "nbformat_minor": 2
}
