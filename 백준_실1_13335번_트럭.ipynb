{
  "cells": [
    {
      "cell_type": "markdown",
      "metadata": {
        "colab_type": "text",
        "id": "view-in-github"
      },
      "source": [
        "<a href=\"https://colab.research.google.com/github/RoRdil31/BAEKJOON/blob/main/%EB%B0%B1%EC%A4%80_%EC%8B%A41_13335%EB%B2%88_%ED%8A%B8%EB%9F%AD.ipynb\" target=\"_parent\"><img src=\"https://colab.research.google.com/assets/colab-badge.svg\" alt=\"Open In Colab\"/></a>"
      ]
    },
    {
      "cell_type": "markdown",
      "metadata": {
        "id": "FGWwOhUwdLAh"
      },
      "source": [
        "다리 길이 : w\n",
        "\n",
        "다리 최대하중 : L 이기 때문에 다리 위 트럭 무게들 합이 L보다 작거나 같아야함.\n",
        "\n",
        "트럭 1 이동 -> 1 unit time"
      ]
    },
    {
      "cell_type": "code",
      "execution_count": null,
      "metadata": {
        "id": "W_p1_LT-mFwD"
      },
      "outputs": [],
      "source": [
        "# q = deque()\n",
        "# q.append() # 오른쪽으로 더하기\n",
        "# q.popleft() # 왼쪽으로 값 빼기\n",
        "\n",
        "# q.appendleft() # 왼쪽으로 추가\n",
        "# q.pop() # 오른쪽으로 빼기\n",
        "\n",
        "\n",
        "# q.extend() # 오른쪽으로 값 추가 (각요소를 잘라서 넣어줌)\n",
        "# deque(['a','b','c']).extend('defg')\n",
        "# → ['a','b','c','d','e','f','g']\n",
        "# append로 넣으면 'defg'로 들어가짐\n",
        "\n",
        "\n",
        "# q.rotate(n)\n",
        "# n만큼 요소들을 회전시켜준다.\n",
        "# n<0 : 왼쪽\n",
        "# n>0 : 오른쪽"
      ]
    },
    {
      "cell_type": "code",
      "execution_count": 2,
      "metadata": {
        "colab": {
          "base_uri": "https://localhost:8080/"
        },
        "id": "E8VGUxo5c5Fc",
        "outputId": "64934bdf-68cf-40f8-d9aa-ce26317e5ace"
      },
      "outputs": [
        {
          "name": "stdout",
          "output_type": "stream",
          "text": [
            "[7, 4, 5, 6]\n"
          ]
        }
      ],
      "source": [
        "\n",
        "n, w, L = map(int,input().split(' ')) #4,2,10\n",
        "trucks = [int(x) for x in input().split(' ')] #[7, 4, 5, 6]\n",
        "\n",
        "print(trucks)\n"
      ]
    },
    {
      "cell_type": "code",
      "execution_count": 3,
      "metadata": {
        "colab": {
          "base_uri": "https://localhost:8080/"
        },
        "id": "R_76YlzplaGZ",
        "outputId": "76b44d99-67cc-480d-f32e-7f9f46301aa8"
      },
      "outputs": [
        {
          "name": "stdout",
          "output_type": "stream",
          "text": [
            "deque([0, 7])\n",
            "deque([7, 0])\n",
            "deque([0, 4])\n",
            "deque([4, 5])\n",
            "deque([5, 0])\n",
            "deque([0, 6])\n",
            "8\n"
          ]
        }
      ],
      "source": [
        "from collections import deque\n",
        "q = deque()\n",
        "cnt = 0\n",
        "\n",
        "for i in range(w):\n",
        "  q.append(0)\n",
        "\n",
        "\n",
        "\n",
        "\n",
        "length = len(trucks)\n",
        "i=0\n",
        "\n",
        "\n",
        "while(i<length):\n",
        "\n",
        "  q.popleft()\n",
        "\n",
        "  if sum(q)+trucks[i] <= L:\n",
        "    q.append(trucks[i])\n",
        "    i+=1\n",
        "\n",
        "  else:\n",
        "    q.append(0)\n",
        "\n",
        "  print(q)\n",
        "  cnt+=1\n",
        "\n",
        "\n",
        "while(sum(q)):\n",
        "  q.popleft()\n",
        "  q.append(0)\n",
        "  cnt+=1\n",
        "\n",
        "print(cnt)\n"
      ]
    },
    {
      "cell_type": "code",
      "execution_count": null,
      "metadata": {},
      "outputs": [],
      "source": []
    }
  ],
  "metadata": {
    "colab": {
      "authorship_tag": "ABX9TyM6PeBlNtCfJkzrfTphKg6+",
      "include_colab_link": true,
      "provenance": []
    },
    "kernelspec": {
      "display_name": "Python 3",
      "name": "python3"
    },
    "language_info": {
      "codemirror_mode": {
        "name": "ipython",
        "version": 3
      },
      "file_extension": ".py",
      "mimetype": "text/x-python",
      "name": "python",
      "nbconvert_exporter": "python",
      "pygments_lexer": "ipython3",
      "version": "3.11.9"
    }
  },
  "nbformat": 4,
  "nbformat_minor": 0
}
