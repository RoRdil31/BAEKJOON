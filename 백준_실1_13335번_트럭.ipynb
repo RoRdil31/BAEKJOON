{
  "nbformat": 4,
  "nbformat_minor": 0,
  "metadata": {
    "colab": {
      "provenance": [],
      "authorship_tag": "ABX9TyM6PeBlNtCfJkzrfTphKg6+",
      "include_colab_link": true
    },
    "kernelspec": {
      "name": "python3",
      "display_name": "Python 3"
    },
    "language_info": {
      "name": "python"
    }
  },
  "cells": [
    {
      "cell_type": "markdown",
      "metadata": {
        "id": "view-in-github",
        "colab_type": "text"
      },
      "source": [
        "<a href=\"https://colab.research.google.com/github/RoRdil31/BAEKJOON/blob/main/%EB%B0%B1%EC%A4%80_%EC%8B%A41_13335%EB%B2%88_%ED%8A%B8%EB%9F%AD.ipynb\" target=\"_parent\"><img src=\"https://colab.research.google.com/assets/colab-badge.svg\" alt=\"Open In Colab\"/></a>"
      ]
    },
    {
      "cell_type": "markdown",
      "source": [
        "다리 길이 : w\n",
        "\n",
        "다리 최대하중 : L 이기 때문에 다리 위 트럭 무게들 합이 L보다 작거나 같아야함.\n",
        "\n",
        "트럭 1 이동 -> 1 unit time"
      ],
      "metadata": {
        "id": "FGWwOhUwdLAh"
      }
    },
    {
      "cell_type": "code",
      "source": [
        "# import queue\n",
        "\n",
        "\n",
        "# brg = queue.Queue()\n",
        "\n",
        "# for truck in trucks:\n",
        "\n",
        "#   brg.put(truck)\n",
        "\n",
        "# del brg"
      ],
      "metadata": {
        "id": "0jqG6Gqdf06n"
      },
      "execution_count": null,
      "outputs": []
    },
    {
      "cell_type": "code",
      "source": [
        "# q = deque()\n",
        "# q.append() # 오른쪽으로 더하기\n",
        "# q.popleft() # 왼쪽으로 값 빼기\n",
        "\n",
        "# q.appendleft() # 왼쪽으로 추가\n",
        "# q.pop() # 오른쪽으로 빼기\n",
        "\n",
        "\n",
        "# q.extend() # 오른쪽으로 값 추가 (각요소를 잘라서 넣어줌)\n",
        "# deque(['a','b','c']).extend('defg')\n",
        "# → ['a','b','c','d','e','f','g']\n",
        "# append로 넣으면 'defg'로 들어가짐\n",
        "\n",
        "\n",
        "# q.rotate(n)\n",
        "# n만큼 요소들을 회전시켜준다.\n",
        "# n<0 : 왼쪽\n",
        "# n>0 : 오른쪽"
      ],
      "metadata": {
        "id": "W_p1_LT-mFwD"
      },
      "execution_count": null,
      "outputs": []
    },
    {
      "cell_type": "code",
      "execution_count": 11,
      "metadata": {
        "colab": {
          "base_uri": "https://localhost:8080/"
        },
        "id": "E8VGUxo5c5Fc",
        "outputId": "64934bdf-68cf-40f8-d9aa-ce26317e5ace"
      },
      "outputs": [
        {
          "output_type": "stream",
          "name": "stdout",
          "text": [
            "2 1 17\n",
            "8 1\n",
            "[8, 1]\n"
          ]
        }
      ],
      "source": [
        "\n",
        "n, w, L = map(int,input().split(' ')) #4,2,10\n",
        "trucks = [int(x) for x in input().split(' ')] #[7, 4, 5, 6]\n",
        "\n",
        "print(trucks)\n"
      ]
    },
    {
      "cell_type": "code",
      "source": [
        "from collections import deque\n",
        "q = deque()\n",
        "cnt = 0\n",
        "\n",
        "for i in range(w):\n",
        "  q.append(0)\n",
        "\n",
        "\n",
        "\n",
        "\n",
        "length = len(trucks)\n",
        "i=0\n",
        "\n",
        "\n",
        "while(i<length):\n",
        "\n",
        "  q.popleft()\n",
        "\n",
        "  if sum(q)+trucks[i] <= L:\n",
        "    q.append(trucks[i])\n",
        "    i+=1\n",
        "\n",
        "  else:\n",
        "    q.append(0)\n",
        "\n",
        "  print(q)\n",
        "  cnt+=1\n",
        "\n",
        "\n",
        "while(sum(q)):\n",
        "  q.popleft()\n",
        "  q.append(0)\n",
        "  cnt+=1\n",
        "\n",
        "print(cnt)\n"
      ],
      "metadata": {
        "colab": {
          "base_uri": "https://localhost:8080/"
        },
        "id": "R_76YlzplaGZ",
        "outputId": "76b44d99-67cc-480d-f32e-7f9f46301aa8"
      },
      "execution_count": 12,
      "outputs": [
        {
          "output_type": "stream",
          "name": "stdout",
          "text": [
            "deque([8])\n",
            "deque([1])\n",
            "3\n"
          ]
        }
      ]
    }
  ]
}