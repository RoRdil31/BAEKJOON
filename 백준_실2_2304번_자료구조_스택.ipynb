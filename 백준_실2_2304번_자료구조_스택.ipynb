{
  "nbformat": 4,
  "nbformat_minor": 0,
  "metadata": {
    "colab": {
      "provenance": [],
      "authorship_tag": "ABX9TyPdtLWTqOsUFtr9Yje5SbiY",
      "include_colab_link": true
    },
    "kernelspec": {
      "name": "python3",
      "display_name": "Python 3"
    },
    "language_info": {
      "name": "python"
    }
  },
  "cells": [
    {
      "cell_type": "markdown",
      "metadata": {
        "id": "view-in-github",
        "colab_type": "text"
      },
      "source": [
        "<a href=\"https://colab.research.google.com/github/RoRdil31/BAEKJOON/blob/main/%EB%B0%B1%EC%A4%80_%EC%8B%A42_2304%EB%B2%88_%EC%9E%90%EB%A3%8C%EA%B5%AC%EC%A1%B0_%EC%8A%A4%ED%83%9D.ipynb\" target=\"_parent\"><img src=\"https://colab.research.google.com/assets/colab-badge.svg\" alt=\"Open In Colab\"/></a>"
      ]
    },
    {
      "cell_type": "markdown",
      "source": [
        "## Question\n",
        "\n",
        "N 개의 막대 기둥이 일렬로 세워져 있다. 기둥들의 폭은 모두 1 m이며 높이는 다를 수 있다. 이 기둥들을 이용하여 양철로 된 창고를 제작하려고 한다. 창고에는 모든 기둥이 들어간다. 이 창고의 지붕을 다음과 같이 만든다.\n",
        "\n",
        "지붕은 수평 부분과 수직 부분으로 구성되며, 모두 연결되어야 한다.\n",
        "지붕의 수평 부분은 반드시 어떤 기둥의 윗면과 닿아야 한다.\n",
        "지붕의 수직 부분은 반드시 어떤 기둥의 옆면과 닿아야 한다.\n",
        "지붕의 가장자리는 땅에 닿아야 한다.\n",
        "비가 올 때 물이 고이지 않도록 지붕의 어떤 부분도 오목하게 들어간 부분이 없어야 한다.\n",
        "그림 1은 창고를 옆에서 본 모습을 그린 것이다. 이 그림에서 굵은 선으로 표시된 부분이 지붕에 해당되고, 지붕과 땅으로 둘러싸인 다각형이 창고를 옆에서 본 모습이다. 이 다각형을 창고 다각형이라고 하자.\n",
        "\n",
        "\n",
        "\n",
        "그림1 . 기둥과 지붕(굵은 선)의 예\n",
        "\n",
        "창고 주인은 창고 다각형의 면적이 가장 작은 창고를 만들기를 원한다. 그림 1에서 창고 다각형의 면적은 98 ㎡이고, 이 경우가 가장 작은 창고 다각형이다.\n",
        "\n",
        "기둥들의 위치와 높이가 주어질 때, 가장 작은 창고 다각형의 면적을 구하는 프로그램을 작성하시오.\n",
        "\n",
        "입력\n",
        "첫 줄에는 기둥의 개수를 나타내는 정수 N이 주어진다. N은 1 이상 1,000 이하이다. 그 다음 N 개의 줄에는 각 줄에 각 기둥의 왼쪽 면의 위치를 나타내는 정수 L과 높이를 나타내는 정수 H가 한 개의 빈 칸을 사이에 두고 주어진다. L과 H는 둘 다 1 이상 1,000 이하이다.\n",
        "\n",
        "출력\n",
        "첫 줄에 창고 다각형의 면적을 나타내는 정수를 출력한다.\n",
        "\n",
        "예제 입력 1\n",
        "7\n",
        "2 4\n",
        "11 4\n",
        "15 8\n",
        "4 6\n",
        "5 3\n",
        "8 10\n",
        "13 6\n",
        "예제 출력 1\n",
        "98"
      ],
      "metadata": {
        "id": "anJGHlr9ISct"
      }
    },
    {
      "cell_type": "markdown",
      "source": [
        "반례\n",
        "\n",
        "3\n",
        "0 3\n",
        "1 2\n",
        "2 3\n",
        "답 9\n",
        "\n",
        "\n",
        "4\n",
        "1 3\n",
        "2 2\n",
        "3 3\n",
        "4 3\n",
        "답 12\n",
        "\n",
        "\n",
        "5\n",
        "4 3\n",
        "6 5\n",
        "9 5\n",
        "11 3\n",
        "13 4\n",
        "답 42"
      ],
      "metadata": {
        "id": "2R6zWdmLoOLD"
      }
    },
    {
      "cell_type": "markdown",
      "source": [
        "## Solution\n",
        "\n",
        "움푹 파인 부분이 없어야 하기 때문에 가장 높은 값을 기준으로 왼쪽은 쭉 상승해야하고 오른쪽으로는 쭉 하락해야하기 때문에 가운데 기준으로 왼/오를 나눠서 계산해줌."
      ],
      "metadata": {
        "id": "rjQ1CQ3mIZJb"
      }
    },
    {
      "cell_type": "code",
      "source": [
        "# import pandas as pd\n",
        "\n",
        "# df = pd.read_csv('data.txt','r')\n",
        "\n",
        "# data = df.values.tolist()\n",
        "# data"
      ],
      "metadata": {
        "colab": {
          "base_uri": "https://localhost:8080/"
        },
        "id": "xetVuq9GgXgJ",
        "outputId": "f741d178-130e-4648-ecd9-adb798fd7ca3"
      },
      "execution_count": 545,
      "outputs": [
        {
          "output_type": "stream",
          "name": "stderr",
          "text": [
            "<ipython-input-545-921725098dc9>:3: FutureWarning: In a future version of pandas all arguments of read_csv except for the argument 'filepath_or_buffer' will be keyword-only.\n",
            "  df = pd.read_csv('data.txt','r')\n"
          ]
        },
        {
          "output_type": "execute_result",
          "data": {
            "text/plain": [
              "[['1 11'], ['2 11'], ['3 11'], ['4 11'], ['5 11']]"
            ]
          },
          "metadata": {},
          "execution_count": 545
        }
      ]
    },
    {
      "cell_type": "code",
      "execution_count": 564,
      "metadata": {
        "id": "f1HQ-gtvTfin",
        "colab": {
          "base_uri": "https://localhost:8080/"
        },
        "outputId": "86a99ebe-5f68-48c1-d0bd-ded5ff5709a7"
      },
      "outputs": [
        {
          "name": "stdout",
          "output_type": "stream",
          "text": [
            "7\n",
            "2 4\n",
            "11 4\n",
            "15 8\n",
            "4 6\n",
            "5 3\n",
            "8 10\n",
            "13 6\n"
          ]
        },
        {
          "output_type": "execute_result",
          "data": {
            "text/plain": [
              "{2: 4, 11: 4, 15: 8, 4: 6, 5: 3, 8: 10, 13: 6}"
            ]
          },
          "metadata": {},
          "execution_count": 564
        }
      ],
      "source": [
        "# @title data 입력 받기 (dictionary에 저장)\n",
        "n = int(input())\n",
        "\n",
        "dic = dict()\n",
        "for i in range(n):\n",
        "  l,h = map(int,input().split(' '))\n",
        "  dic[l]=h\n",
        "\n",
        "# for d in data:\n",
        "#   str1 = ' '.join(d)\n",
        "#   l,h = map(int,str1.split(' '))\n",
        "#   dic[l]=h\n",
        "\n",
        "dic"
      ]
    },
    {
      "cell_type": "code",
      "source": [
        "# @title KEY 기준으로 오름차순 정렬\n",
        "from operator import itemgetter\n",
        "\n",
        "sorted_dic = dict(sorted(dic.items(),key = itemgetter(0)))\n",
        "sorted_dic"
      ],
      "metadata": {
        "colab": {
          "base_uri": "https://localhost:8080/"
        },
        "id": "tPDl2oLLiG2v",
        "outputId": "b3d9a74e-cc2d-4095-e1b5-d18ed7726004"
      },
      "execution_count": 565,
      "outputs": [
        {
          "output_type": "execute_result",
          "data": {
            "text/plain": [
              "{2: 4, 4: 6, 5: 3, 8: 10, 11: 4, 13: 6, 15: 8}"
            ]
          },
          "metadata": {},
          "execution_count": 565
        }
      ]
    },
    {
      "cell_type": "code",
      "source": [
        "keys = sorted_dic.keys()\n",
        "keys\n",
        "\n",
        "# 5 in sorted_dic"
      ],
      "metadata": {
        "colab": {
          "base_uri": "https://localhost:8080/"
        },
        "id": "zJDtynqXjN0t",
        "outputId": "060ce1ce-ca90-42a6-ef6c-c7fa593eb69c"
      },
      "execution_count": 566,
      "outputs": [
        {
          "output_type": "execute_result",
          "data": {
            "text/plain": [
              "dict_keys([2, 4, 5, 8, 11, 13, 15])"
            ]
          },
          "metadata": {},
          "execution_count": 566
        }
      ]
    },
    {
      "cell_type": "code",
      "source": [
        "# @title 가장 높은 value의 key값 구하기\n",
        "max_keys = [k for k,value in sorted_dic.items() if value == max(sorted_dic.values())]\n",
        "max_keys"
      ],
      "metadata": {
        "colab": {
          "base_uri": "https://localhost:8080/"
        },
        "id": "1PorF3dckDTd",
        "outputId": "8c9baebc-8f71-4ecb-f59d-91bc69acc6ba"
      },
      "execution_count": 567,
      "outputs": [
        {
          "output_type": "execute_result",
          "data": {
            "text/plain": [
              "[8]"
            ]
          },
          "metadata": {},
          "execution_count": 567
        }
      ]
    },
    {
      "cell_type": "code",
      "source": [
        "x_length = max(keys) - min(keys) + 1\n",
        "x_length"
      ],
      "metadata": {
        "colab": {
          "base_uri": "https://localhost:8080/"
        },
        "id": "5AXY-ynal7os",
        "outputId": "99b7c3d0-4448-4d8c-b327-37cffeaa596a"
      },
      "execution_count": 568,
      "outputs": [
        {
          "output_type": "execute_result",
          "data": {
            "text/plain": [
              "14"
            ]
          },
          "metadata": {},
          "execution_count": 568
        }
      ]
    },
    {
      "cell_type": "markdown",
      "source": [
        "## 왼/오 기준으로 sum 구하기"
      ],
      "metadata": {
        "id": "d6ZYeIk5JMHq"
      }
    },
    {
      "cell_type": "code",
      "source": [
        "# @title 높은 값 기준으로 왼쪽 sum 구하기\n",
        "\n",
        "sum = 0\n",
        "\n",
        "d = sorted_dic\n",
        "fill = -1\n",
        "before = -1\n",
        "\n",
        "\n",
        "for i in range(min(keys),max_keys[0]):\n",
        "\n",
        "  # if i==max_keys[0]:\n",
        "  #   break\n",
        "\n",
        "  if i in keys:\n",
        "    if d[i]>=fill:\n",
        "      fill = d[i]\n",
        "    sum += fill\n",
        "  else :\n",
        "    sum += fill\n",
        "\n",
        "sum"
      ],
      "metadata": {
        "colab": {
          "base_uri": "https://localhost:8080/"
        },
        "id": "OLKukL2xddCd",
        "outputId": "075e921a-3b14-4fc9-d844-4b9800bca6f7"
      },
      "execution_count": 569,
      "outputs": [
        {
          "output_type": "execute_result",
          "data": {
            "text/plain": [
              "32"
            ]
          },
          "metadata": {},
          "execution_count": 569
        }
      ]
    },
    {
      "cell_type": "code",
      "source": [
        "# @title 가운데(높은) 값 sum에 더하기\n",
        "\n",
        "sum += d[max_keys[0]]\n",
        "sum"
      ],
      "metadata": {
        "colab": {
          "base_uri": "https://localhost:8080/"
        },
        "id": "QdwJz7FYr_E_",
        "outputId": "011af679-cd22-49fd-ed5a-e00a6361c063"
      },
      "execution_count": 570,
      "outputs": [
        {
          "output_type": "execute_result",
          "data": {
            "text/plain": [
              "42"
            ]
          },
          "metadata": {},
          "execution_count": 570
        }
      ]
    },
    {
      "cell_type": "code",
      "source": [
        "# @title 높은 값 기준 오른쪽에서 그 다음 높은 값 구하기\n",
        "\n",
        "next_i = max_keys[0]\n",
        "\n",
        "def find_next_max(next_i,next_max):\n",
        "\n",
        "  next_max = -1\n",
        "\n",
        "  for i in range(next_i+1,max(keys)+1):\n",
        "    if i in keys:\n",
        "      if d[i] >= next_max:\n",
        "        next_max = d[i]\n",
        "        next_i = i\n",
        "\n",
        "  # print(f'next_i = {next_i} next_max = {next_max}')\n",
        "\n",
        "  return next_i, next_max\n",
        "\n",
        "next_i,next_max = find_next_max(next_i,-1)\n",
        "next_i,next_max"
      ],
      "metadata": {
        "colab": {
          "base_uri": "https://localhost:8080/"
        },
        "id": "wurXChJjrlDW",
        "outputId": "141eaf0c-55ff-4f65-c900-3e79d0159af3"
      },
      "execution_count": 571,
      "outputs": [
        {
          "output_type": "execute_result",
          "data": {
            "text/plain": [
              "(15, 8)"
            ]
          },
          "metadata": {},
          "execution_count": 571
        }
      ]
    },
    {
      "cell_type": "code",
      "source": [
        "# @title 높은 값 기준으로 오른쪽 sum 더하기\n",
        "\n",
        "stop = 0\n",
        "start_i = max_keys[0]\n",
        "end_i = max(dic)\n",
        "\n",
        "while(True):\n",
        "  for i in range(start_i+1,next_i+1):\n",
        "\n",
        "    sum += next_max\n",
        "\n",
        "    # print(f'i={i} sum={sum}')\n",
        "\n",
        "\n",
        "\n",
        "  if i==end_i or stop>1000: break\n",
        "\n",
        "  if next_i != max(keys):\n",
        "    start_i = next_i\n",
        "    next_i,next_max = find_next_max(next_i,next_max)\n",
        "\n",
        "  stop+=1\n",
        "\n",
        "\n",
        "print(sum)"
      ],
      "metadata": {
        "colab": {
          "base_uri": "https://localhost:8080/"
        },
        "id": "3EmkSzhmt5M-",
        "outputId": "0cd73072-6bfc-4493-ec32-93487ae5c939"
      },
      "execution_count": 572,
      "outputs": [
        {
          "output_type": "stream",
          "name": "stdout",
          "text": [
            "98\n"
          ]
        }
      ]
    }
  ]
}