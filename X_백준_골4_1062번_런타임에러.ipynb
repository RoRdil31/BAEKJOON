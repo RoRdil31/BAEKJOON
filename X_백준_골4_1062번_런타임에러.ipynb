{
  "nbformat": 4,
  "nbformat_minor": 0,
  "metadata": {
    "colab": {
      "provenance": [],
      "authorship_tag": "ABX9TyNm+hFfhB5X2O6YAsl19wZj",
      "include_colab_link": true
    },
    "kernelspec": {
      "name": "python3",
      "display_name": "Python 3"
    },
    "language_info": {
      "name": "python"
    }
  },
  "cells": [
    {
      "cell_type": "markdown",
      "metadata": {
        "id": "view-in-github",
        "colab_type": "text"
      },
      "source": [
        "<a href=\"https://colab.research.google.com/github/RoRdil31/BAEKJOON/blob/main/X_%EB%B0%B1%EC%A4%80_%EA%B3%A84_1062%EB%B2%88_%EB%9F%B0%ED%83%80%EC%9E%84%EC%97%90%EB%9F%AC.ipynb\" target=\"_parent\"><img src=\"https://colab.research.google.com/assets/colab-badge.svg\" alt=\"Open In Colab\"/></a>"
      ]
    },
    {
      "cell_type": "markdown",
      "source": [
        "aaa tt nic"
      ],
      "metadata": {
        "id": "zFF_DPWjh9eO"
      }
    },
    {
      "cell_type": "code",
      "execution_count": null,
      "metadata": {
        "id": "XW6_ePF6cnLQ"
      },
      "outputs": [],
      "source": [
        "# from collections import Counter\n",
        "\n",
        "# def Calc(n,l,k):\n",
        "\n",
        "#   all_or = set()\n",
        "\n",
        "#   for i in range(n):\n",
        "#     all_or |= set(l[i])\n",
        "\n",
        "#   if k < 5: return 0\n",
        "#   elif k >= len(all_or):  return k\n",
        "\n",
        "#   result = 0\n",
        "#   k -= 5\n",
        "#   char_to_remove = ['a','t','n','i','c']\n",
        "#   removed_list = []\n",
        "\n",
        "\n",
        "#   unique_chars = set()\n",
        "#   for str1 in l:\n",
        "#     for char in char_to_remove: # list에서 대표 5개 알파벳 제거\n",
        "#       str1 = str1.replace(char,'')\n",
        "#     unique_chars.update(str1)\n",
        "#     str1 = ''.join(unique_chars)\n",
        "#     removed_list.append(str1)\n",
        "#     unique_chars.clear()\n",
        "#   # # print(f'removed_list = {removed_list}')\n",
        "\n",
        "\n",
        "\n",
        "#   # 남은 k보다 작거나 같은 길이만 저장.\n",
        "#   residue = [string for string in removed_list if len(string) <= k]\n",
        "#   # print(f'residue = {residue}')\n",
        "#   residue_or = set()\n",
        "#   for i in range(len(residue)):\n",
        "#     residue_or |= set(residue[i])\n",
        "\n",
        "#   # print(f'residue_or = {residue_or}')\n",
        "\n",
        "\n",
        "#   import math, random\n",
        "#   count_random = math.comb(len(residue),k)\n",
        "#   # print(count_random)\n",
        "#   record_results = [0]*count_random\n",
        "\n",
        "#   for i in range(count_random):\n",
        "#     random_elements = random.sample(residue_or,k)\n",
        "#     for set_ in residue:\n",
        "#       record_results[i] +=1 if (len(set(set_) - set(random_elements)))==0 else 0\n",
        "\n",
        "\n",
        "\n",
        "#   return result + max(record_results)\n",
        "\n"
      ]
    },
    {
      "cell_type": "code",
      "source": [
        "\n",
        "def Calc(n,l,k):\n",
        "\n",
        "  residue = [str1.translate(str.maketrans('','','atnic')) for str1 in l]\n",
        "  # print(residue) # ['r', 'hello', 'r']\n",
        "  # print(set(''.join(l))) # {'i', 'n', 'c', 'o', 'l', 'e', 'r', 't', 'h', 'a'}\n",
        "\n",
        "  if k < 5: return 0\n",
        "  elif k >= len(set(''.join(l))):  return k\n",
        "\n",
        "  k -= 5\n",
        "\n",
        "  residue_or = set(''.join(residue))\n",
        "\n",
        "\n",
        "  import math, random\n",
        "  count_random = math.comb(len(residue_or),k)\n",
        "\n",
        "  record_max=-1\n",
        "  for i in range(count_random):\n",
        "    sum_=0\n",
        "    random_elements = random.sample(residue_or,k)\n",
        "    for set_ in residue:\n",
        "      # sum_ += 1 if (len(set(set_) - set(random_elements))) == 0 else 0\n",
        "      if (len(set(set_) - set(random_elements))) == 0:\n",
        "        sum_ += 1\n",
        "    record_max = max(record_max,sum_)\n",
        "\n",
        "\n",
        "  return record_max\n"
      ],
      "metadata": {
        "id": "aeu8CNuXEz_G"
      },
      "execution_count": null,
      "outputs": []
    },
    {
      "cell_type": "code",
      "source": [
        "\n",
        "# n=3\n",
        "# k=6\n",
        "# l = ['antarctica','antahellotica','antacartica']\n",
        "\n",
        "# n=9\n",
        "# k=8\n",
        "# l = ['antabtica','antaxtica','antadtica','antaetica','antaftica','antagtica','antahtica','antajtica','antaktica']\n",
        "\n",
        "n,k = map(int, input().split())\n",
        "l = [input() for _ in range(n)]\n",
        "\n",
        "print(Calc(n,l,k))"
      ],
      "metadata": {
        "colab": {
          "base_uri": "https://localhost:8080/"
        },
        "id": "zyfM4wh-gIAm",
        "outputId": "d6fc46f3-6add-4b8f-ae58-0fb039efff93"
      },
      "execution_count": null,
      "outputs": [
        {
          "output_type": "stream",
          "name": "stdout",
          "text": [
            "2\n"
          ]
        },
        {
          "output_type": "stream",
          "name": "stderr",
          "text": [
            "<ipython-input-217-38c0b2bd68cf>:21: DeprecationWarning: Sampling from a set deprecated\n",
            "since Python 3.9 and will be removed in a subsequent version.\n",
            "  random_elements = random.sample(residue_or,k)\n"
          ]
        }
      ]
    }
  ]
}