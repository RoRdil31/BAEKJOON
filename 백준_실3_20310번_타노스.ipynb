{
 "cells": [
  {
   "cell_type": "markdown",
   "metadata": {},
   "source": [
    "타노스 (서브태스크다국어)\n",
    " \n",
    "시간 제한\t메모리 제한\t제출\t정답\t맞힌 사람\t정답 비율\n",
    "1 초\t1024 MB\t3140\t1428\t1257\t49.645%\n",
    "문제\n",
    "어느 날, 타노스는 0과 1로 이루어진 문자열 \n",
    "$S$를 보았다. 신기하게도, \n",
    "$S$가 포함하는 0의 개수와 \n",
    "$S$가 포함하는 1의 개수는 모두 짝수라고 한다.\n",
    "\n",
    "갑자기 심술이 난 타노스는 \n",
    "$S$를 구성하는 문자 중 절반의 0과 절반의 1을 제거하여 새로운 문자열 \n",
    "$S'$를 만들고자 한다. \n",
    "$S'$로 가능한 문자열 중 사전순으로 가장 빠른 것을 구하시오.\n",
    "\n",
    "입력\n",
    "문자열 \n",
    "$S$가 주어진다.\n",
    "\n",
    "출력\n",
    " \n",
    "$S'$로 가능한 문자열 중 사전순으로 가장 빠른 것을 출력한다.\n",
    "\n",
    "제한\n",
    " \n",
    "$S$의 길이는 \n",
    "$2$ 이상 \n",
    "$500$ 이하이다.\n",
    " \n",
    "$S$는 짝수 개의 0과 짝수 개의 1로 이루어져 있다.\n",
    "서브태스크 1 (25점)\n",
    " \n",
    "$S$의 길이는 4의 배수이다.\n",
    " \n",
    "$S$의 홀수 번째 문자는 1, 짝수 번째 문자는 0이다.\n",
    "서브태스크 2 (75점)\n",
    "추가적인 제약 조건이 없다.\n",
    "\n",
    "예제 입력 1 \n",
    "1010\n",
    "예제 출력 1 \n",
    "01"
   ]
  },
  {
   "cell_type": "code",
   "execution_count": 160,
   "metadata": {},
   "outputs": [
    {
     "data": {
      "text/plain": [
       "(3, 1)"
      ]
     },
     "execution_count": 160,
     "metadata": {},
     "output_type": "execute_result"
    }
   ],
   "source": [
    "s = [int(x) for x in input()]\n",
    "\n",
    "cnt_0 = s.count(0)\n",
    "cnt_1 = s.count(1)\n",
    "\n",
    "one_idx = s.index(1)\n",
    "\n",
    "cnt_0, cnt_1, one_idx\n",
    "\n",
    "h0 = cnt_0//2\n",
    "h1 = cnt_1//2\n",
    "\n",
    "h0, h1"
   ]
  },
  {
   "cell_type": "code",
   "execution_count": 161,
   "metadata": {},
   "outputs": [
    {
     "name": "stdout",
     "output_type": "stream",
     "text": [
      "0010"
     ]
    }
   ],
   "source": [
    "\n",
    "for i in range(len(s)):\n",
    "    \n",
    "    if s[i] == 1:\n",
    "        s[i] = -1\n",
    "        h1 -= 1\n",
    "    if h1 == 0 : break\n",
    "\n",
    "for i in range(len(s)-1,-1,-1):\n",
    "    \n",
    "    if s[i] == 0:\n",
    "        s[i] = -1\n",
    "        h0 -= 1\n",
    "    if h0 == 0 : break\n",
    "    \n",
    "for i in s:\n",
    "    if i!=-1 : print(i,end='')"
   ]
  },
  {
   "cell_type": "code",
   "execution_count": 162,
   "metadata": {},
   "outputs": [],
   "source": [
    "# p=0\n",
    "# for i in range(len(s)):\n",
    "    \n",
    "#     if h1 == 0 : break\n",
    "#     if s[p] == 1:\n",
    "#         # print(f'p={p}  ',end='')\n",
    "#         s.pop(p)\n",
    "#         # print(f' s = {s}')\n",
    "#         h1 -= 1\n",
    "#         p -= 1\n",
    "#     p += 1\n",
    "# # print(s,'\\n')\n",
    "\n",
    "# p=len(s)\n",
    "# for i in range(len(s)):\n",
    "#     if h0 == 0 : break\n",
    "    \n",
    "#     # print(p-1)\n",
    "#     if s[p-1] == 0:\n",
    "#         s.pop(p-1)\n",
    "#         h0 -= 1\n",
    "#     p -= 1\n",
    "    \n",
    "        \n",
    "# print(''.join(map(str,s)))"
   ]
  },
  {
   "cell_type": "code",
   "execution_count": 163,
   "metadata": {},
   "outputs": [],
   "source": [
    "# if one_idx ==  or cnt_0/2 <= one_idx:\n",
    "#     print('0'*(cnt_0//2)+'1'*(cnt_1//2))\n",
    "# else :\n",
    "#     print('0'*one_idx + '1'*(cnt_1//2) + '0'*(cnt_0//2 - one_idx))"
   ]
  }
 ],
 "metadata": {
  "kernelspec": {
   "display_name": "Python 3",
   "language": "python",
   "name": "python3"
  },
  "language_info": {
   "codemirror_mode": {
    "name": "ipython",
    "version": 3
   },
   "file_extension": ".py",
   "mimetype": "text/x-python",
   "name": "python",
   "nbconvert_exporter": "python",
   "pygments_lexer": "ipython3",
   "version": "3.11.8"
  }
 },
 "nbformat": 4,
 "nbformat_minor": 2
}
