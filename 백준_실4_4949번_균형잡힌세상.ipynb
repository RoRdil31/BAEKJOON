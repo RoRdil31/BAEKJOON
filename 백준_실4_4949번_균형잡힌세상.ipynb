{
 "cells": [
  {
   "cell_type": "code",
   "execution_count": 2,
   "metadata": {},
   "outputs": [
    {
     "data": {
      "text/plain": [
       "')'"
      ]
     },
     "execution_count": 2,
     "metadata": {},
     "output_type": "execute_result"
    }
   ],
   "source": [
    "setting = {'(':')','[':']'}\n",
    "\n",
    "setting['(']\n",
    "\n"
   ]
  },
  {
   "cell_type": "markdown",
   "metadata": {},
   "source": [
    "## cnt up&down 으로만 풀었는데 [(]) 이런 case가 상쇄돼서 틀림.\n",
    "따라서 () 와 [] 처럼 나란히 있는 것들 먼저 제거해주며 괄호를 줄여나가 봐야함."
   ]
  },
  {
   "cell_type": "code",
   "execution_count": 1,
   "metadata": {},
   "outputs": [
    {
     "name": "stdout",
     "output_type": "stream",
     "text": [
      "['[', '(', '(', ')', '(', ']', ')', ')']\n",
      "cnt1=0 cnt2=1\n",
      "cnt1=1 cnt2=1\n",
      "cnt1=2 cnt2=1\n",
      "cnt1=1 cnt2=1\n",
      "cnt1=2 cnt2=1\n",
      "cnt1=2 cnt2=0\n",
      "cnt1=1 cnt2=0\n",
      "cnt1=0 cnt2=0\n",
      "yes\n"
     ]
    }
   ],
   "source": [
    "import re\n",
    "\n",
    "\n",
    "while(True):\n",
    "    HavetoBreak = False\n",
    "    l1 = input()\n",
    "    if l1 == '.' : break\n",
    "    cnt1 = 0\n",
    "    cnt2 = 0\n",
    "    \n",
    "    # l1 = l1.replace(' ','')\n",
    "    ex = re.findall(r'[()[\\]]',l1)\n",
    "    print(ex)\n",
    "    \n",
    "    for p in ex:\n",
    "        \n",
    "        match p:\n",
    "            case '(' : cnt1 += 1\n",
    "            case ')' : cnt1 -= 1\n",
    "            case '[' : cnt2 += 1\n",
    "            case ']' : cnt2 -= 1\n",
    "        \n",
    "        print(f'cnt1={cnt1} cnt2={cnt2}')\n",
    "        if cnt1 < 0 or cnt2 < 0 :\n",
    "            HavetoBreak = True\n",
    "            break\n",
    "    \n",
    "    if HavetoBreak == True or cnt1!=0 or cnt2!=0 : print('no')\n",
    "    else : print('yes')\n",
    "    # else : print('no')\n",
    "    \n",
    "    \n",
    "    \n"
   ]
  },
  {
   "cell_type": "markdown",
   "metadata": {},
   "source": [
    "## 제출한 코드 (성공)"
   ]
  },
  {
   "cell_type": "code",
   "execution_count": 27,
   "metadata": {},
   "outputs": [
    {
     "name": "stdout",
     "output_type": "stream",
     "text": [
      "no\n"
     ]
    }
   ],
   "source": [
    "import re\n",
    "\n",
    "\n",
    "while(True):\n",
    "    # HavetoBreak = False\n",
    "    l1 = input()\n",
    "    if l1 == '.' : break\n",
    "    \n",
    "    ex = re.findall(r'[()[\\].]',l1)\n",
    "    # print(ex)\n",
    "    \n",
    "    limit = 0\n",
    "    while limit<=100 :#len(ex) :\n",
    "        # print(i)\n",
    "        \n",
    "        for i in range(len(ex)):\n",
    "            \n",
    "            if i >= len(ex) : break\n",
    "            \n",
    "            if ex[i]=='(' and ex[i+1]==')' :\n",
    "                ex.pop(i)\n",
    "                ex.pop(i)\n",
    "            elif ex[i]=='[' and ex[i+1]==']' :\n",
    "                ex.pop(i)\n",
    "                ex.pop(i)\n",
    "            # print(ex)\n",
    "        \n",
    "        if len(ex)==1 : break\n",
    "        \n",
    "        limit += 1\n",
    "        \n",
    "    if len(ex)==1 : print('yes')\n",
    "    else : print('no')\n",
    "        \n",
    "    \n",
    "        \n",
    "            \n",
    "    \n",
    "    \n",
    "    "
   ]
  },
  {
   "cell_type": "markdown",
   "metadata": {},
   "source": [
    "반례\n",
    "\n",
    "[(()(])).\n",
    "\n",
    "no"
   ]
  }
 ],
 "metadata": {
  "kernelspec": {
   "display_name": "Python 3",
   "language": "python",
   "name": "python3"
  },
  "language_info": {
   "codemirror_mode": {
    "name": "ipython",
    "version": 3
   },
   "file_extension": ".py",
   "mimetype": "text/x-python",
   "name": "python",
   "nbconvert_exporter": "python",
   "pygments_lexer": "ipython3",
   "version": "3.11.8"
  }
 },
 "nbformat": 4,
 "nbformat_minor": 2
}
