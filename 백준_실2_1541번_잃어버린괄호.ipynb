{
  "nbformat": 4,
  "nbformat_minor": 0,
  "metadata": {
    "colab": {
      "provenance": [],
      "authorship_tag": "ABX9TyOzAv54g4PlVhkgof+bdpME",
      "include_colab_link": true
    },
    "kernelspec": {
      "name": "python3",
      "display_name": "Python 3"
    },
    "language_info": {
      "name": "python"
    }
  },
  "cells": [
    {
      "cell_type": "markdown",
      "metadata": {
        "id": "view-in-github",
        "colab_type": "text"
      },
      "source": [
        "<a href=\"https://colab.research.google.com/github/RoRdil31/BAEKJOON/blob/main/%EB%B0%B1%EC%A4%80_%EC%8B%A42_1541%EB%B2%88_%EC%9E%83%EC%96%B4%EB%B2%84%EB%A6%B0%EA%B4%84%ED%98%B8.ipynb\" target=\"_parent\"><img src=\"https://colab.research.google.com/assets/colab-badge.svg\" alt=\"Open In Colab\"/></a>"
      ]
    },
    {
      "cell_type": "code",
      "execution_count": 9,
      "metadata": {
        "colab": {
          "base_uri": "https://localhost:8080/"
        },
        "id": "s3uH9E-hpS46",
        "outputId": "8c17d966-f137-4294-be6c-a2b5e0900b37"
      },
      "outputs": [
        {
          "name": "stdout",
          "output_type": "stream",
          "text": [
            "0+2-0\n"
          ]
        },
        {
          "output_type": "execute_result",
          "data": {
            "text/plain": [
              "2"
            ]
          },
          "metadata": {},
          "execution_count": 9
        }
      ],
      "source": [
        "\n",
        "e = input()\n",
        "\n",
        "part = e.split('-')\n",
        "\n",
        "result = 0\n",
        "for i in range(len(part)):\n",
        "  nums = [int(x) if '+' in part[i] else int(part[i]) for x in part[i].split('+')]\n",
        "\n",
        "  if i==0 : result += sum(nums)\n",
        "  else :\n",
        "    result -= sum(nums)\n",
        "\n",
        "result"
      ]
    }
  ]
}