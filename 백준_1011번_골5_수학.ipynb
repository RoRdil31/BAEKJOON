{
  "nbformat": 4,
  "nbformat_minor": 0,
  "metadata": {
    "colab": {
      "provenance": [],
      "authorship_tag": "ABX9TyPqKMRk6u+aBPmsc2twp+gD",
      "include_colab_link": true
    },
    "kernelspec": {
      "name": "python3",
      "display_name": "Python 3"
    },
    "language_info": {
      "name": "python"
    }
  },
  "cells": [
    {
      "cell_type": "markdown",
      "metadata": {
        "id": "view-in-github",
        "colab_type": "text"
      },
      "source": [
        "<a href=\"https://colab.research.google.com/github/RoRdil31/BAEKJOON/blob/main/%EB%B0%B1%EC%A4%80_1011%EB%B2%88_%EA%B3%A85_%EC%88%98%ED%95%99.ipynb\" target=\"_parent\"><img src=\"https://colab.research.google.com/assets/colab-badge.svg\" alt=\"Open In Colab\"/></a>"
      ]
    },
    {
      "cell_type": "markdown",
      "source": [
        "처음 1 광년 이동\n",
        "\n",
        "두번째 0 1 2 광년 이동\n",
        "\n",
        "세번째 1 2 3 광년 이동\n",
        "\n",
        "..\n",
        "\n",
        "안전을 위해 y지점 직전 이동거리는 무조건 1광년으로 이동\n",
        "\n",
        "x -> y 로 이동하는데 필요한 이동장치 작동 횟수 최솟값"
      ],
      "metadata": {
        "id": "1F2f6YY1iD7c"
      }
    },
    {
      "cell_type": "code",
      "source": [
        "import math\n",
        "\n",
        "def calc_distance(x,y) :\n",
        "  result = 0\n",
        "  diff = y-x;\n",
        "  if diff == 1 : return 1\n",
        "  elif diff < 4 :\n",
        "    result = math.ceil((diff)/2) +1\n",
        "  else:\n",
        "    result = math.ceil((diff)/2) +3 - int(math.sqrt(diff))\n",
        "\n",
        "\n",
        "\n",
        "  return result\n"
      ],
      "metadata": {
        "id": "Qc9b-6VGiru0"
      },
      "execution_count": null,
      "outputs": []
    },
    {
      "cell_type": "code",
      "source": [
        "import math\n",
        "\n",
        "def calc_distance(x,y) :\n",
        "  result = 0\n",
        "  diff = y-x\n",
        "  move = int(diff ** 0.5)\n",
        "  square = move ** 2\n",
        "\n",
        "  if diff == square:\n",
        "    result = move *2 - 1\n",
        "  elif diff <= square + move:\n",
        "    result = move * 2\n",
        "  elif diff > square + move:\n",
        "    result = move * 2 + 1\n",
        "  elif diff < 4 :\n",
        "    result = diff\n",
        "\n",
        "  return result\n"
      ],
      "metadata": {
        "id": "5CjM_5ey5iHh"
      },
      "execution_count": null,
      "outputs": []
    },
    {
      "cell_type": "code",
      "execution_count": null,
      "metadata": {
        "colab": {
          "base_uri": "https://localhost:8080/"
        },
        "id": "n5z2C3p5hYJj",
        "outputId": "903a7b6c-8d72-4fbe-8041-a97e0ae91a3c"
      },
      "outputs": [
        {
          "output_type": "stream",
          "name": "stdout",
          "text": [
            "3\n",
            "0 3\n",
            "3\n",
            "1 5\n",
            "3\n",
            "45 50\n",
            "4\n"
          ]
        }
      ],
      "source": [
        "T = int(input())\n",
        "\n",
        "for i in range(T):\n",
        "  # if i==0 : num = '0 3'\n",
        "  # if i==1 : num = '1 5'\n",
        "\n",
        "  # if i==2 : num = '45 50'\n",
        "  num = (input())\n",
        "  x, y = num.split(' ')\n",
        "  x, y = int(x), int(y)\n",
        "  result = calc_distance(x,y)\n",
        "  print(result)"
      ]
    }
  ]
}