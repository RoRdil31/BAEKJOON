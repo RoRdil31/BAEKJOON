{
  "nbformat": 4,
  "nbformat_minor": 0,
  "metadata": {
    "colab": {
      "provenance": [],
      "authorship_tag": "ABX9TyMX54le76tvSx96Ci6pyRIt",
      "include_colab_link": true
    },
    "kernelspec": {
      "name": "python3",
      "display_name": "Python 3"
    },
    "language_info": {
      "name": "python"
    }
  },
  "cells": [
    {
      "cell_type": "markdown",
      "metadata": {
        "id": "view-in-github",
        "colab_type": "text"
      },
      "source": [
        "<a href=\"https://colab.research.google.com/github/RoRdil31/BAEKJOON/blob/main/%EB%B0%B1%EC%A4%80_%EC%8B%A43_2910%EB%B2%88_%EB%B9%88%EB%8F%84%EC%A0%95%EB%A0%AC.ipynb\" target=\"_parent\"><img src=\"https://colab.research.google.com/assets/colab-badge.svg\" alt=\"Open In Colab\"/></a>"
      ]
    },
    {
      "cell_type": "markdown",
      "source": [
        "N개 숫자로 된 수열\n",
        "\n",
        "숫자는 모두 <= c\n",
        "\n",
        "자주 등장하는 빈도순대로 정렬\n",
        "(많이 나오는 거 먼저)\n",
        "\n",
        "=> 이걸 \"빈도 정렬\"이라고 함.\n",
        "\n"
      ],
      "metadata": {
        "id": "uo3QL9U9TI7j"
      }
    },
    {
      "cell_type": "code",
      "source": [
        "n,c = 9,77 #map(int,input().split())\n",
        "str1 = '11 33 11 77 54 11 25 25 33'\n",
        "arr = [int(x) for x in str1.split(' ')]\n",
        "\n",
        "arr"
      ],
      "metadata": {
        "colab": {
          "base_uri": "https://localhost:8080/"
        },
        "id": "_ZLFTk_STo2j",
        "outputId": "a2c4e5c5-b572-45f6-fe70-711c1cd67947"
      },
      "execution_count": 3,
      "outputs": [
        {
          "output_type": "execute_result",
          "data": {
            "text/plain": [
              "[11, 33, 11, 77, 54, 11, 25, 25, 33]"
            ]
          },
          "metadata": {},
          "execution_count": 3
        }
      ]
    },
    {
      "cell_type": "code",
      "source": [
        "from collections import Counter\n",
        "\n",
        "freq = Counter(arr)\n",
        "# print(freq)\n",
        "\n",
        "sorted_freq = sorted(freq.items(),key=lambda x:x[1],reverse=True)\n",
        "# print(sorted_freq)\n",
        "\n",
        "result=''\n",
        "for num,cnt in sorted_freq:\n",
        "  result+=((str(num)+' ')*cnt)\n",
        "\n",
        "print(result)"
      ],
      "metadata": {
        "colab": {
          "base_uri": "https://localhost:8080/"
        },
        "id": "EtRqVxObUPGo",
        "outputId": "35746bd5-972f-4477-9cdf-4919bbcee3c9"
      },
      "execution_count": 44,
      "outputs": [
        {
          "output_type": "stream",
          "name": "stdout",
          "text": [
            "Counter({11: 3, 33: 2, 25: 2, 77: 1, 54: 1})\n",
            "[(11, 3), (33, 2), (25, 2), (77, 1), (54, 1)]\n",
            "11 11 11 33 33 25 25 77 54 \n"
          ]
        }
      ]
    },
    {
      "cell_type": "code",
      "source": [
        "freq.keys()"
      ],
      "metadata": {
        "colab": {
          "base_uri": "https://localhost:8080/"
        },
        "id": "E1uP4rcdW1F4",
        "outputId": "844d5203-5092-420b-c52b-1c29d3444c0a"
      },
      "execution_count": 34,
      "outputs": [
        {
          "output_type": "execute_result",
          "data": {
            "text/plain": [
              "dict_keys([11, 33, 77, 54, 25])"
            ]
          },
          "metadata": {},
          "execution_count": 34
        }
      ]
    },
    {
      "cell_type": "code",
      "source": [
        "freq.values()"
      ],
      "metadata": {
        "colab": {
          "base_uri": "https://localhost:8080/"
        },
        "id": "lqKMt6-bXDia",
        "outputId": "3d290984-f25f-4256-f2ab-9b60d501559a"
      },
      "execution_count": 35,
      "outputs": [
        {
          "output_type": "execute_result",
          "data": {
            "text/plain": [
              "dict_values([3, 2, 1, 1, 2])"
            ]
          },
          "metadata": {},
          "execution_count": 35
        }
      ]
    }
  ]
}