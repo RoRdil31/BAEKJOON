{
  "nbformat": 4,
  "nbformat_minor": 0,
  "metadata": {
    "colab": {
      "provenance": [],
      "authorship_tag": "ABX9TyM8eAcVTHjN9wOipMJK/Gaa",
      "include_colab_link": true
    },
    "kernelspec": {
      "name": "python3",
      "display_name": "Python 3"
    },
    "language_info": {
      "name": "python"
    }
  },
  "cells": [
    {
      "cell_type": "markdown",
      "metadata": {
        "id": "view-in-github",
        "colab_type": "text"
      },
      "source": [
        "<a href=\"https://colab.research.google.com/github/RoRdil31/BAEKJOON/blob/main/%EB%B0%B1%EC%A4%80_%EC%8B%A4%EB%B2%841_14888%EB%B2%88_%EC%9E%AC%EA%B7%80.ipynb\" target=\"_parent\"><img src=\"https://colab.research.google.com/assets/colab-badge.svg\" alt=\"Open In Colab\"/></a>"
      ]
    },
    {
      "cell_type": "code",
      "execution_count": null,
      "metadata": {
        "id": "27WipMUxn4rc"
      },
      "outputs": [],
      "source": [
        "Max = -1e10\n",
        "Min = 1e10\n",
        "\n",
        "def Recur(arr, Add, Sub, Mul, Div, n, cnt,result):\n",
        "\n",
        "  global Max, Min\n",
        "\n",
        "  if cnt < n-1:\n",
        "    if 0 < Add :\n",
        "      Recur(arr,Add-1, Sub, Mul, Div, n, cnt+1, result+arr[cnt+1])\n",
        "    if 0 < Sub :\n",
        "      Recur(arr,Add, Sub-1, Mul, Div, n, cnt+1, result-arr[cnt+1])\n",
        "    if 0 < Mul :\n",
        "      Recur(arr,Add, Sub, Mul-1, Div, n, cnt+1, result*arr[cnt+1])\n",
        "    if 0 < Div :\n",
        "      Recur(arr,Add, Sub, Mul, Div-1, n, cnt+1, int(result/arr[cnt+1]))\n",
        "  else :\n",
        "    Max = max(Max,result)\n",
        "    Min = min(Min,result)\n",
        "\n",
        "\n",
        "\n",
        "def Calc(n,arr,op):\n",
        "  result = 0\n",
        "  cnt = 0\n",
        "  Recur(arr,op[0],op[1],op[2],op[3],n,cnt,arr[0])\n",
        "\n",
        "  print(Max)\n",
        "  print(Min)\n",
        "\n",
        "  return result"
      ]
    },
    {
      "cell_type": "code",
      "source": [
        "n = int(input())\n",
        "str1 = input()\n",
        "oper = input()\n",
        "\n",
        "arr = [int(x) for x in str1.split(' ')]\n",
        "oper = [int(x) for x in oper.split(' ')]\n",
        "\n",
        "\n",
        "\n",
        "res = Calc(n,arr,oper)\n"
      ],
      "metadata": {
        "colab": {
          "base_uri": "https://localhost:8080/"
        },
        "id": "0L2u2Kx7pJV1",
        "outputId": "945187e2-e3d1-46d8-900c-aac290484312"
      },
      "execution_count": null,
      "outputs": [
        {
          "output_type": "stream",
          "name": "stdout",
          "text": [
            "6\n",
            "1 2 3 4 5 6\n",
            "2 1 1 1\n",
            "54\n",
            "-24\n"
          ]
        }
      ]
    }
  ]
}