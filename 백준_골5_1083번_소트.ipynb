{
  "nbformat": 4,
  "nbformat_minor": 0,
  "metadata": {
    "colab": {
      "provenance": [],
      "authorship_tag": "ABX9TyNQDncxq7WKAVtLtXWxlaOu",
      "include_colab_link": true
    },
    "kernelspec": {
      "name": "python3",
      "display_name": "Python 3"
    },
    "language_info": {
      "name": "python"
    }
  },
  "cells": [
    {
      "cell_type": "markdown",
      "metadata": {
        "id": "view-in-github",
        "colab_type": "text"
      },
      "source": [
        "<a href=\"https://colab.research.google.com/github/RoRdil31/BAEKJOON/blob/main/%EB%B0%B1%EC%A4%80_%EA%B3%A85_1083%EB%B2%88_%EC%86%8C%ED%8A%B8.ipynb\" target=\"_parent\"><img src=\"https://colab.research.google.com/assets/colab-badge.svg\" alt=\"Open In Colab\"/></a>"
      ]
    },
    {
      "cell_type": "markdown",
      "source": [
        "10\n",
        "11 6 20 1 2 34 5 3 68 10\n",
        "8\n",
        "\n",
        "반례\n",
        "\n",
        "답 => 68 11 6 20 1 2 34 5 3 10"
      ],
      "metadata": {
        "id": "xRe3AURu4r0S"
      }
    },
    {
      "cell_type": "code",
      "execution_count": null,
      "metadata": {
        "colab": {
          "base_uri": "https://localhost:8080/"
        },
        "id": "bb5QDUK8ByUt",
        "outputId": "5d54e68a-6e3d-46bf-e4a5-0cd65ffeff05"
      },
      "outputs": [
        {
          "output_type": "stream",
          "name": "stdout",
          "text": [
            "10\n",
            "11 6 20 1 2 34 5 3 68 10\n",
            "8\n",
            "68 11 6 20 1 2 34 5 3 10 "
          ]
        }
      ],
      "source": [
        "\n",
        "n = int(input())\n",
        "str1 = input()\n",
        "arr = [int(x) for x in str1.split(' ')]\n",
        "\n",
        "s = int(input())\n",
        "j = len(arr)\n",
        "s_count=0\n",
        "\n",
        "for i in range(j):\n",
        "\n",
        "  max_index = arr.index(max(arr[i:j]))\n",
        "\n",
        "  # print(f's = {s}')\n",
        "  # print(f'i = {i}')\n",
        "  # print(f'max1 = {max_index}')\n",
        "  # if s==i : max_index = arr.index(max(arr[i],arr[i+1]))\n",
        "  if  s < max_index:\n",
        "    max_index = arr.index(max(arr[i:i+s+1]))\n",
        "\n",
        "  # print(f'max2 = {max_index}')\n",
        "\n",
        "\n",
        "  while True :\n",
        "\n",
        "    if max_index == i :\n",
        "\n",
        "      break\n",
        "\n",
        "    elif arr[max_index-1] < arr[max_index]:\n",
        "      arr[max_index-1],arr[max_index] = arr[max_index],arr[max_index-1]\n",
        "      s_count+=1\n",
        "      max_index-=1\n",
        "      s-=1\n",
        "      # print(arr)\n",
        "\n",
        "  # if s_count == s : break\n",
        "\n",
        "  if s==0 : break\n",
        "\n",
        "for i in arr:\n",
        "  print(i,end=' ')\n",
        "\n",
        "\n"
      ]
    }
  ]
}