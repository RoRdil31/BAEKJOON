{
  "nbformat": 4,
  "nbformat_minor": 0,
  "metadata": {
    "colab": {
      "provenance": [],
      "authorship_tag": "ABX9TyNEYAGCNEvDhxJFVZxH6JFT",
      "include_colab_link": true
    },
    "kernelspec": {
      "name": "python3",
      "display_name": "Python 3"
    },
    "language_info": {
      "name": "python"
    }
  },
  "cells": [
    {
      "cell_type": "markdown",
      "metadata": {
        "id": "view-in-github",
        "colab_type": "text"
      },
      "source": [
        "<a href=\"https://colab.research.google.com/github/RoRdil31/BAEKJOON/blob/main/%EB%B0%B1%EC%A4%80_%EC%8B%A42_11501%EB%B2%88_%EC%A3%BC%EC%8B%9D.ipynb\" target=\"_parent\"><img src=\"https://colab.research.google.com/assets/colab-badge.svg\" alt=\"Open In Colab\"/></a>"
      ]
    },
    {
      "cell_type": "markdown",
      "source": [
        "## 정답 코드\n",
        "그리디 알고리즘은 앞보단 뒤에서부터 풀어갈 때 훨씬 쉬운 경우가 많음.\n",
        "\n",
        "for 문에서 거꾸로 읽어가며 크면 최댓값 갱신, 작다면 해당 주식을 사고 최대값에 팖."
      ],
      "metadata": {
        "id": "59i9FF7dvfKd"
      }
    },
    {
      "cell_type": "code",
      "source": [
        "import sys\n",
        "\n",
        "t = int(sys.stdin.readline())\n",
        "\n",
        "while t > 0 :\n",
        "  n = int(sys.stdin.readline())\n",
        "  nums = list(map(int,sys.stdin.readline().split()))\n",
        "  result=0\n",
        "  max_value = 0\n",
        "\n",
        "  for i in range(n-1,-1,-1):\n",
        "    if nums[i] > max_value : max_value = nums[i]\n",
        "    else : result += max_value - nums[i]\n",
        "\n",
        "  print(result)\n",
        "  t -= 1\n"
      ],
      "metadata": {
        "colab": {
          "base_uri": "https://localhost:8080/"
        },
        "id": "IuIphh0DrIRC",
        "outputId": "77069344-4af3-408b-8aa1-e32df739f71f"
      },
      "execution_count": 23,
      "outputs": [
        {
          "output_type": "stream",
          "name": "stdout",
          "text": [
            "1\n",
            "4\n",
            "1 2 1 100\n",
            "296\n"
          ]
        }
      ]
    },
    {
      "cell_type": "markdown",
      "source": [
        "## 답은 맞으나 시간초과로 실패한 코드"
      ],
      "metadata": {
        "id": "rHDHFvDZvZWK"
      }
    },
    {
      "cell_type": "code",
      "source": [
        "import sys\n",
        "\n",
        "t = int(sys.stdin.readline())\n",
        "\n",
        "# for _ in range(t):\n",
        "while t > 0 :\n",
        "  # n = int(input())\n",
        "  n = int(sys.stdin.readline())\n",
        "  # nums = [int(x) for x in input().split(' ')]\n",
        "  nums = list(map(int,sys.stdin.readline().split()))\n",
        "  result, cnt = 0,0\n",
        "\n",
        "\n",
        "  i=0\n",
        "  while(i<len(nums)):\n",
        "\n",
        "    max_idx = nums.index(max(nums[i:]))\n",
        "\n",
        "    if max_idx != i :\n",
        "\n",
        "      # buy\n",
        "      result -= sum(nums[i:max_idx])\n",
        "      cnt = max_idx-i\n",
        "\n",
        "      # sold\n",
        "      result += nums[max_idx] * cnt\n",
        "\n",
        "      # update \"i\" for next buy\n",
        "      i = max_idx+1\n",
        "\n",
        "    else : i += 1\n",
        "\n",
        "  print(result)\n",
        "  t -= 1\n",
        "\n",
        "\n",
        "\n",
        "\n"
      ],
      "metadata": {
        "colab": {
          "base_uri": "https://localhost:8080/",
          "height": 220
        },
        "id": "0VIYwH_t4TtH",
        "outputId": "a7c9497d-df6e-46eb-c5e9-2f78b79e025b"
      },
      "execution_count": 22,
      "outputs": [
        {
          "output_type": "error",
          "ename": "ValueError",
          "evalue": "invalid literal for int() with base 10: ''",
          "traceback": [
            "\u001b[0;31m---------------------------------------------------------------------------\u001b[0m",
            "\u001b[0;31mValueError\u001b[0m                                Traceback (most recent call last)",
            "\u001b[0;32m<ipython-input-22-4012df99344e>\u001b[0m in \u001b[0;36m<cell line: 3>\u001b[0;34m()\u001b[0m\n\u001b[1;32m      1\u001b[0m \u001b[0;32mimport\u001b[0m \u001b[0msys\u001b[0m\u001b[0;34m\u001b[0m\u001b[0;34m\u001b[0m\u001b[0m\n\u001b[1;32m      2\u001b[0m \u001b[0;34m\u001b[0m\u001b[0m\n\u001b[0;32m----> 3\u001b[0;31m \u001b[0mt\u001b[0m \u001b[0;34m=\u001b[0m \u001b[0mint\u001b[0m\u001b[0;34m(\u001b[0m\u001b[0msys\u001b[0m\u001b[0;34m.\u001b[0m\u001b[0mstdin\u001b[0m\u001b[0;34m.\u001b[0m\u001b[0mreadline\u001b[0m\u001b[0;34m(\u001b[0m\u001b[0;34m)\u001b[0m\u001b[0;34m)\u001b[0m\u001b[0;34m\u001b[0m\u001b[0;34m\u001b[0m\u001b[0m\n\u001b[0m\u001b[1;32m      4\u001b[0m \u001b[0;34m\u001b[0m\u001b[0m\n\u001b[1;32m      5\u001b[0m \u001b[0;31m# for _ in range(t):\u001b[0m\u001b[0;34m\u001b[0m\u001b[0;34m\u001b[0m\u001b[0m\n",
            "\u001b[0;31mValueError\u001b[0m: invalid literal for int() with base 10: ''"
          ]
        }
      ]
    }
  ]
}