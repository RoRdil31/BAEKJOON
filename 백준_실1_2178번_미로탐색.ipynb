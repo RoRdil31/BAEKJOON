{
 "cells": [
  {
   "cell_type": "code",
   "execution_count": 5,
   "metadata": {},
   "outputs": [
    {
     "name": "stdout",
     "output_type": "stream",
     "text": [
      "['110110', '110110', '111111', '111101']\n"
     ]
    }
   ],
   "source": [
    "import sys\n",
    "from collections import deque\n",
    "q = deque()\n",
    "\n",
    "\n",
    "# input = sys.stdin.readline()\n",
    "\n",
    "n,m = 4,6 # map(int,input().split(' '))\n",
    "for _ in range(n):\n",
    "    data = list((input().split(' ')))\n",
    "\n",
    "print(data)\n"
   ]
  }
 ],
 "metadata": {
  "kernelspec": {
   "display_name": "Python 3",
   "language": "python",
   "name": "python3"
  },
  "language_info": {
   "codemirror_mode": {
    "name": "ipython",
    "version": 3
   },
   "file_extension": ".py",
   "mimetype": "text/x-python",
   "name": "python",
   "nbconvert_exporter": "python",
   "pygments_lexer": "ipython3",
   "version": "3.11.8"
  }
 },
 "nbformat": 4,
 "nbformat_minor": 2
}
