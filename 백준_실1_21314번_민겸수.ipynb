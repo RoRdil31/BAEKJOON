{
  "nbformat": 4,
  "nbformat_minor": 0,
  "metadata": {
    "colab": {
      "provenance": [],
      "authorship_tag": "ABX9TyPTYts+AkpIFQijJhQPhSTL",
      "include_colab_link": true
    },
    "kernelspec": {
      "name": "python3",
      "display_name": "Python 3"
    },
    "language_info": {
      "name": "python"
    }
  },
  "cells": [
    {
      "cell_type": "markdown",
      "metadata": {
        "id": "view-in-github",
        "colab_type": "text"
      },
      "source": [
        "<a href=\"https://colab.research.google.com/github/RoRdil31/BAEKJOON/blob/main/%EB%B0%B1%EC%A4%80_%EC%8B%A41_21314%EB%B2%88_%EB%AF%BC%EA%B2%B8%EC%88%98.ipynb\" target=\"_parent\"><img src=\"https://colab.research.google.com/assets/colab-badge.svg\" alt=\"Open In Colab\"/></a>"
      ]
    },
    {
      "cell_type": "markdown",
      "source": [
        "10^N -> N+1개의 M으로\n",
        "\n",
        "5x10^N -> N개의 M뒤에 1개의 k를 이어 붙인 문자열"
      ],
      "metadata": {
        "id": "isjLvXI-R_x8"
      }
    },
    {
      "cell_type": "code",
      "source": [
        "\n",
        "# str1 = 'MKKMMK' #input()\n",
        "# str1 = 'KMKMM' # 반례\n",
        "\n",
        "str1 = input()\n",
        "\n",
        "\n",
        "if 'K' not in str1:\n",
        "  print(('1'*len(str1)))\n",
        "  print('1'+'0'*(len(str1)-1))\n",
        "\n",
        "else:\n",
        "\n",
        "  K_arr = [i for i,x in enumerate(str1) if x=='K']\n",
        "\n",
        "  # print(K_arr)\n",
        "\n",
        "  start_index = 0\n",
        "  num = ''\n",
        "\n",
        "  for k in K_arr:\n",
        "    # print(str1[start_index:k+1])\n",
        "    sub_str = str1[start_index:k+1]\n",
        "    # be_number = int(5*math.pow(10,len(sub_str)-1))\n",
        "    # num += str(be_number)\n",
        "    num += '5'+'0'*(len(sub_str)-1)\n",
        "\n",
        "    start_index = k+1\n",
        "\n",
        "  if str1[-1]!='K':\n",
        "    # print(str1[start_index:])\n",
        "    # sub_str = len(str1[start_index:])\n",
        "    # num += str(int(math.pow(10,len(sub_str)-1)))\n",
        "    for i in str1[start_index:]:\n",
        "      num += str('1')\n",
        "\n",
        "  print((num))\n",
        "\n",
        "\n",
        "  start_index = 0\n",
        "  num = ''\n",
        "\n",
        "  for k in K_arr:\n",
        "    # print(str1[start_index:k])\n",
        "    sub_str = str1[start_index:k]\n",
        "    # be_number = int(math.pow(10,len(sub_str)-1))\n",
        "    # print(sub_str)\n",
        "    if len(sub_str)>0:\n",
        "      num += '1'+'0'*(len(sub_str)-1)\n",
        "\n",
        "    # if be_number != 0:\n",
        "      # num += str(be_number)\n",
        "    num += '5'\n",
        "    # print(f'num : {num}')\n",
        "    start_index = k+1\n",
        "\n",
        "  if str1[-1]!='K':\n",
        "    # print(str1[start_index:])\n",
        "    # sub_str = str1[start_index:]\n",
        "    # num += str(int(math.pow(10,len(sub_str)-1)))\n",
        "    num += str('1')\n",
        "    for i in str1[start_index+1:]:\n",
        "      num += str('0')\n",
        "\n",
        "\n",
        "  print((num))\n",
        "\n",
        "\n",
        "\n"
      ],
      "metadata": {
        "colab": {
          "base_uri": "https://localhost:8080/"
        },
        "id": "-Nf6l5Caijb-",
        "outputId": "8546de80-c703-4c78-a49f-fdf5972b1a6e"
      },
      "execution_count": null,
      "outputs": [
        {
          "output_type": "stream",
          "name": "stdout",
          "text": [
            "MKKMMK\n",
            "505500\n",
            "155105\n"
          ]
        }
      ]
    },
    {
      "cell_type": "code",
      "execution_count": null,
      "metadata": {
        "id": "wNVtT1k8RklK"
      },
      "outputs": [],
      "source": [
        "import math\n",
        "\n",
        "# str1 = 'MKKMMK' #input()\n",
        "str1 = 'KMKMM' # 반례\n",
        "\n",
        "# str1 = input()\n",
        "\n",
        "\n",
        "if 'K' not in str1:\n",
        "  print(int('1'*len(str1)))\n",
        "  print(int(math.pow(10,len(str1)-1)))\n",
        "  exit(1)\n",
        "\n",
        "\n",
        "K_arr = [i for i,x in enumerate(str1) if x=='K']\n",
        "\n",
        "# print(K_arr)\n"
      ]
    },
    {
      "cell_type": "markdown",
      "source": [
        "Maximum 구하기"
      ],
      "metadata": {
        "id": "wOmxP4IJd9xh"
      }
    },
    {
      "cell_type": "code",
      "source": [
        "start_index = 0\n",
        "num = ''\n",
        "\n",
        "for k in K_arr:\n",
        "  # print(str1[start_index:k+1])\n",
        "  sub_str = str1[start_index:k+1]\n",
        "  be_number = int(5*math.pow(10,len(sub_str)-1))\n",
        "  # print(be_number)\n",
        "  num += str(be_number)\n",
        "  start_index = k+1\n",
        "\n",
        "if str1[-1]!='K':\n",
        "  # print(str1[start_index:])\n",
        "  # sub_str = len(str1[start_index:])\n",
        "  # num += str(int(math.pow(10,len(sub_str)-1)))\n",
        "  for i in str1[start_index:]:\n",
        "    num += str('1')\n",
        "\n",
        "print(int(num))\n"
      ],
      "metadata": {
        "colab": {
          "base_uri": "https://localhost:8080/"
        },
        "id": "pvPoF50lU2xl",
        "outputId": "a6db48c9-360f-474e-ba8f-3b670d208639"
      },
      "execution_count": null,
      "outputs": [
        {
          "output_type": "stream",
          "name": "stdout",
          "text": [
            "55011\n"
          ]
        }
      ]
    },
    {
      "cell_type": "markdown",
      "source": [
        "Minimum 구하기"
      ],
      "metadata": {
        "id": "FXitNJIIeAob"
      }
    },
    {
      "cell_type": "code",
      "source": [
        "start_index = 0\n",
        "num = ''\n",
        "\n",
        "for k in K_arr:\n",
        "  # print(str1[start_index:k])\n",
        "  sub_str = str1[start_index:k]\n",
        "  be_number = int(math.pow(10,len(sub_str)-1))\n",
        "\n",
        "  # print(str1[k])\n",
        "  # print(be_number)\n",
        "  if be_number != 0:\n",
        "    num += str(be_number)\n",
        "  num += '5'\n",
        "  # print(f'num : {num}')\n",
        "  start_index = k+1\n",
        "\n",
        "if str1[-1]!='K':\n",
        "  # print(str1[start_index:])\n",
        "  sub_str = str1[start_index:]\n",
        "  num += str(int(math.pow(10,len(sub_str)-1)))\n",
        "\n",
        "\n",
        "print(int(num))\n"
      ],
      "metadata": {
        "colab": {
          "base_uri": "https://localhost:8080/"
        },
        "id": "fmrzoL2FcQZw",
        "outputId": "85e40505-1f78-4cb8-c59d-2a231e303f61"
      },
      "execution_count": null,
      "outputs": [
        {
          "output_type": "stream",
          "name": "stdout",
          "text": [
            "51510\n"
          ]
        }
      ]
    },
    {
      "cell_type": "code",
      "source": [],
      "metadata": {
        "id": "I25kzn7EeRmp"
      },
      "execution_count": null,
      "outputs": []
    }
  ]
}