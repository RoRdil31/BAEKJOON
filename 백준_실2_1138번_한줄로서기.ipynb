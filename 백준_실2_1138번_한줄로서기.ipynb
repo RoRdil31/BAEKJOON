{
  "nbformat": 4,
  "nbformat_minor": 0,
  "metadata": {
    "colab": {
      "provenance": [],
      "authorship_tag": "ABX9TyMpNKwJnY9fhwTNss75kF4o",
      "include_colab_link": true
    },
    "kernelspec": {
      "name": "python3",
      "display_name": "Python 3"
    },
    "language_info": {
      "name": "python"
    }
  },
  "cells": [
    {
      "cell_type": "markdown",
      "metadata": {
        "id": "view-in-github",
        "colab_type": "text"
      },
      "source": [
        "<a href=\"https://colab.research.google.com/github/RoRdil31/BAEKJOON/blob/main/%EB%B0%B1%EC%A4%80_%EC%8B%A42_1138%EB%B2%88_%ED%95%9C%EC%A4%84%EB%A1%9C%EC%84%9C%EA%B8%B0.ipynb\" target=\"_parent\"><img src=\"https://colab.research.google.com/assets/colab-badge.svg\" alt=\"Open In Colab\"/></a>"
      ]
    },
    {
      "cell_type": "markdown",
      "source": [
        "한 줄로 서기\n",
        "\n",
        "시간 제한\t메모리 제한\t제출\t정답\t맞힌 사람\t정답 비율\n",
        "2 초\t128 MB\t14411\t8700\t7261\t60.976%\n",
        "문제\n",
        "N명의 사람들은 매일 아침 한 줄로 선다. 이 사람들은 자리를 마음대로 서지 못하고 오민식의 지시대로 선다.\n",
        "\n",
        "어느 날 사람들은 오민식이 사람들이 줄 서는 위치를 기록해 놓는다는 것을 알았다. 그리고 아침에 자기가 기록해 놓은 것과 사람들이 줄을 선 위치가 맞는지 확인한다.\n",
        "\n",
        "사람들은 자기보다 큰 사람이 왼쪽에 몇 명 있었는지만을 기억한다. N명의 사람이 있고, 사람들의 키는 1부터 N까지 모두 다르다.\n",
        "\n",
        "각 사람들이 기억하는 정보가 주어질 때, 줄을 어떻게 서야 하는지 출력하는 프로그램을 작성하시오.\n",
        "\n",
        "입력\n",
        "첫째 줄에 사람의 수 N이 주어진다. N은 10보다 작거나 같은 자연수이다. 둘째 줄에는 키가 1인 사람부터 차례대로 자기보다 키가 큰 사람이 왼쪽에 몇 명이 있었는지 주어진다. i번째 수는 0보다 크거나 같고, N-i보다 작거나 같다. i는 0부터 시작한다.\n",
        "\n",
        "출력\n",
        "첫째 줄에 줄을 선 순서대로 키를 출력한다.\n",
        "\n",
        "예제 입력 1\n",
        "4\n",
        "2 1 1 0\n",
        "예제 출력 1\n",
        "4 2 1 3\n",
        "\n",
        "\n",
        "반례\n",
        "\n",
        "10\n",
        "\n",
        "5 3 7 1 4 2 1 0 0 0\n",
        "\n",
        "8 4 7 2 6 1 9 5 10 3"
      ],
      "metadata": {
        "id": "u9VsQM8TdSMQ"
      }
    },
    {
      "cell_type": "code",
      "source": [
        "n = int(input())\n",
        "l1 =  [int(x) for x in input().split(' ')]\n",
        "# n = 7\n",
        "# l1 = [6,1,1,1,2,0,0]\n",
        "\n",
        "l1"
      ],
      "metadata": {
        "colab": {
          "base_uri": "https://localhost:8080/"
        },
        "id": "oW9cD_tdgLcI",
        "outputId": "f942e50e-3e3d-441b-e6b3-aa963fb31e03"
      },
      "execution_count": 52,
      "outputs": [
        {
          "name": "stdout",
          "output_type": "stream",
          "text": [
            "1\n",
            "1 2\n"
          ]
        },
        {
          "output_type": "execute_result",
          "data": {
            "text/plain": [
              "[6, 1, 1, 1, 2, 0, 0]"
            ]
          },
          "metadata": {},
          "execution_count": 52
        }
      ]
    },
    {
      "cell_type": "code",
      "source": [
        "\n",
        "result = [0]*n\n",
        "tall = 1\n",
        "\n",
        "for i in l1:\n",
        "  cnt = 0\n",
        "\n",
        "  # count_higher_numbers = sum(1 for num in result[:i+cnt] if num > )\n",
        "\n",
        "  # if result[i]==0 :\n",
        "  #   result[i] = tall\n",
        "  # else:\n",
        "  while(True):\n",
        "    if result[i+cnt]==0 and result[:i+cnt].count(0)==i:\n",
        "      result[i+cnt] = tall\n",
        "      break\n",
        "    cnt+=1\n",
        "\n",
        "  tall+=1\n",
        "  # print(f'{i} => {result}')\n",
        "\n",
        "\n",
        "print(result)"
      ],
      "metadata": {
        "colab": {
          "base_uri": "https://localhost:8080/"
        },
        "id": "RBPHqkwHgijw",
        "outputId": "49df58ef-6b4f-4e2c-e8f2-4456ced2c799"
      },
      "execution_count": 53,
      "outputs": [
        {
          "output_type": "stream",
          "name": "stdout",
          "text": [
            "6 => [0, 0, 0, 0, 0, 0, 1]\n",
            "1 => [0, 2, 0, 0, 0, 0, 1]\n",
            "1 => [0, 2, 3, 0, 0, 0, 1]\n",
            "1 => [0, 2, 3, 4, 0, 0, 1]\n",
            "2 => [0, 2, 3, 4, 0, 5, 1]\n",
            "0 => [6, 2, 3, 4, 0, 5, 1]\n",
            "0 => [6, 2, 3, 4, 7, 5, 1]\n",
            "[6, 2, 3, 4, 7, 5, 1]\n",
            "[8, 4, 7, 2, 6, 1, 9, 5, 10, 3]\n"
          ]
        }
      ]
    },
    {
      "cell_type": "markdown",
      "source": [
        "## 최종 제출 코드"
      ],
      "metadata": {
        "id": "tUlnQ1TIvclV"
      }
    },
    {
      "cell_type": "code",
      "source": [
        "n = int(input())\n",
        "l1 =  [int(x) for x in input().split(' ')]\n",
        "\n",
        "\n",
        "result = [0]*n\n",
        "tall = 1\n",
        "\n",
        "for i in l1:\n",
        "  cnt = 0\n",
        "\n",
        "  while(True):\n",
        "    if result[i+cnt]==0 and result[:i+cnt].count(0)==i:\n",
        "      result[i+cnt] = tall\n",
        "      break\n",
        "    cnt+=1\n",
        "\n",
        "  tall+=1\n",
        "\n",
        "result = ' '.join(map(str,result))\n",
        "print(result)\n"
      ],
      "metadata": {
        "colab": {
          "base_uri": "https://localhost:8080/"
        },
        "id": "gflCF0L9hSb9",
        "outputId": "38308831-0ae0-469b-d1d1-ebabe3e871e7"
      },
      "execution_count": 57,
      "outputs": [
        {
          "output_type": "stream",
          "name": "stdout",
          "text": [
            "4\n",
            "2 1 1 0\n",
            "4 2 1 3\n"
          ]
        }
      ]
    }
  ]
}