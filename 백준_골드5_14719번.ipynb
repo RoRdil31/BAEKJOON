{
  "nbformat": 4,
  "nbformat_minor": 0,
  "metadata": {
    "colab": {
      "provenance": [],
      "authorship_tag": "ABX9TyP0ZuKhDqh/bDvu3dxj/tvc",
      "include_colab_link": true
    },
    "kernelspec": {
      "name": "python3",
      "display_name": "Python 3"
    },
    "language_info": {
      "name": "python"
    }
  },
  "cells": [
    {
      "cell_type": "markdown",
      "metadata": {
        "id": "view-in-github",
        "colab_type": "text"
      },
      "source": [
        "<a href=\"https://colab.research.google.com/github/RoRdil31/BAEKJOON/blob/main/%EB%B0%B1%EC%A4%80_%EA%B3%A8%EB%93%9C5_14719%EB%B2%88.ipynb\" target=\"_parent\"><img src=\"https://colab.research.google.com/assets/colab-badge.svg\" alt=\"Open In Colab\"/></a>"
      ]
    },
    {
      "cell_type": "code",
      "source": [
        "import math\n",
        "math.tanh?"
      ],
      "metadata": {
        "id": "csJ9g_HxAhrb"
      },
      "execution_count": null,
      "outputs": []
    },
    {
      "cell_type": "code",
      "execution_count": null,
      "metadata": {
        "id": "0DLveDmm99Hz"
      },
      "outputs": [],
      "source": [
        "import math\n",
        "\n",
        "\n",
        "def calc(h,w,l):\n",
        "  result = 0\n",
        "\n",
        "  for i in range(w-1):\n",
        "    print((l[i+1]-l[i]))\n",
        "\n",
        "  return result\n"
      ]
    },
    {
      "cell_type": "code",
      "source": [
        "hw = '4 8' #input()\n",
        "l = '3 1 2 3 4 1 1 2' #input()\n",
        "\n",
        "h,w = hw.split(' ')\n",
        "h,w = int(h), int(w)\n",
        "l = [int(x) for x in l.split(' ')]\n",
        "\n",
        "result = calc(h,w,l)\n",
        "print('\\n',result)"
      ],
      "metadata": {
        "colab": {
          "base_uri": "https://localhost:8080/"
        },
        "id": "2viSO9dE-D5v",
        "outputId": "09630705-48a5-4f6c-c315-dc43207b0e4a"
      },
      "execution_count": null,
      "outputs": [
        {
          "output_type": "stream",
          "name": "stdout",
          "text": [
            "-2\n",
            "1\n",
            "1\n",
            "1\n",
            "-3\n",
            "0\n",
            "1\n",
            "\n",
            " 0\n"
          ]
        }
      ]
    }
  ]
}