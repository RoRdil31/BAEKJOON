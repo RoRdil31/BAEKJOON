{
  "nbformat": 4,
  "nbformat_minor": 0,
  "metadata": {
    "colab": {
      "provenance": [],
      "include_colab_link": true
    },
    "kernelspec": {
      "name": "python3",
      "display_name": "Python 3"
    },
    "language_info": {
      "name": "python"
    }
  },
  "cells": [
    {
      "cell_type": "markdown",
      "metadata": {
        "id": "view-in-github",
        "colab_type": "text"
      },
      "source": [
        "<a href=\"https://colab.research.google.com/github/RoRdil31/BAEKJOON/blob/main/%E1%84%87%E1%85%A2%E1%86%A8%E1%84%8C%E1%85%AE%E1%86%AB_%EA%B3%A85_14719%E1%84%87%E1%85%A5%E1%86%AB.ipynb\" target=\"_parent\"><img src=\"https://colab.research.google.com/assets/colab-badge.svg\" alt=\"Open In Colab\"/></a>"
      ]
    },
    {
      "cell_type": "code",
      "source": [
        "\n",
        "def calc(h,w,l):\n",
        "  sum = 0\n",
        "  # print(l[:1])\n",
        "  for i in range(1,w-1):\n",
        "\n",
        "    left_max = max(l[:i])\n",
        "    right_max = max(l[i+1:])\n",
        "    # print(f'left_max = {left_max}')\n",
        "    # print(f'right_max = {right_max}\\n')\n",
        "\n",
        "    if min(left_max,right_max)-l[i] > 0:\n",
        "      sum += min(left_max,right_max) - l[i]\n",
        "\n",
        "\n",
        "\n",
        "\n",
        "  return sum\n",
        "\n",
        "\n"
      ],
      "metadata": {
        "id": "Cs-kMGKtXmLS"
      },
      "execution_count": null,
      "outputs": []
    },
    {
      "cell_type": "code",
      "source": [
        "# hw = '7 8' #input()\n",
        "# l = '7 1 1 5 0 5 2 7' #input()\n",
        "hw = input()\n",
        "l = input()\n",
        "\n",
        "h,w = hw.split(' ')\n",
        "h,w = int(h), int(w)\n",
        "l = [int(x) for x in l.split(' ')]\n",
        "\n",
        "result = calc(h,w,l)\n",
        "print(result)\n",
        "\n"
      ],
      "metadata": {
        "colab": {
          "base_uri": "https://localhost:8080/"
        },
        "id": "H76WRqMjXhSr",
        "outputId": "2a011a8a-2c67-4006-d3ef-e40b6002fdf0"
      },
      "execution_count": null,
      "outputs": [
        {
          "output_type": "stream",
          "name": "stdout",
          "text": [
            "4 4\n",
            "3 0 1 4\n",
            "5\n"
          ]
        }
      ]
    },
    {
      "cell_type": "markdown",
      "source": [
        "아래는 ... 예외 문제 틀리는 코드"
      ],
      "metadata": {
        "id": "csJ9g_HxAhrb"
      }
    },
    {
      "cell_type": "code",
      "source": [
        "def Get_water(start,end,l,result):\n",
        "\n",
        "  # print(f'start = {start} end = {end}')\n",
        "\n",
        "  second_max_height = min(l[start],l[end])\n",
        "  for i in l[start+1:end]:\n",
        "    # print(f'diff = {second_max_height - i}')\n",
        "    if (second_max_height - i) > 0:\n",
        "      result += (second_max_height - i)\n",
        "\n",
        "  # print(f'result = {result}')\n",
        "  return result\n"
      ],
      "metadata": {
        "id": "kKB8CdzAEDfn"
      },
      "execution_count": null,
      "outputs": []
    },
    {
      "cell_type": "code",
      "source": [
        "def Last_check(p,l,result):\n",
        "\n",
        "  print(p)\n",
        "  before = p[0]\n",
        "  for i in p[1:]:\n",
        "    if l[before] >= l[i]:\n",
        "      result += (l[before]-l[i])*(p[i]-before)\n",
        "\n",
        "\n",
        "  return result"
      ],
      "metadata": {
        "id": "zclaZCCAMvF4"
      },
      "execution_count": null,
      "outputs": []
    },
    {
      "cell_type": "code",
      "execution_count": null,
      "metadata": {
        "id": "0DLveDmm99Hz"
      },
      "outputs": [],
      "source": [
        "import math\n",
        "\n",
        "\n",
        "def calc(h,w,l):\n",
        "  result = 0\n",
        "  start= -1\n",
        "  end = -1\n",
        "  record = 0\n",
        "  p_record = []\n",
        "\n",
        "  for i in range(w-1):\n",
        "\n",
        "    diff = l[i+1]-l[i]\n",
        "    # print(f'diff = {diff}')\n",
        "\n",
        "    if i == w-2 :\n",
        "      # print(\"here\",i)\n",
        "      end = i+1\n",
        "      p_record.append(end)\n",
        "      result = Get_water(start,end,l,result)\n",
        "      return Last_check(p_record,l,result)\n",
        "\n",
        "\n",
        "    if diff < 0 and record == 0 and start == -1 :\n",
        "      start = l.index(l[i])\n",
        "      record = 1\n",
        "      p_record.append(start)\n",
        "      # print(f'record start = {start}')\n",
        "\n",
        "    elif diff < 0 and record == 1 :\n",
        "      end = i\n",
        "      p_record.append(end)\n",
        "      # print(f'i = {i}')\n",
        "      # print(f'record end = {end}')\n",
        "      result = Get_water(start,end,l,result)\n",
        "      # record = 0\n",
        "      start = end\n",
        "      end = -1\n",
        "\n",
        "\n",
        "  return result\n"
      ]
    },
    {
      "cell_type": "code",
      "source": [
        "hw = '7 8' #input()\n",
        "l = '7 1 1 5 0 5 2 7' #input()\n",
        "# hw = '7 8' #input()\n",
        "# l = '6 1 1 5 0 6 2 6' #input()\n",
        "\n",
        "h,w = hw.split(' ')\n",
        "h,w = int(h), int(w)\n",
        "l = [int(x) for x in l.split(' ')]\n",
        "\n",
        "result = calc(h,w,l)\n",
        "print(result)"
      ],
      "metadata": {
        "colab": {
          "base_uri": "https://localhost:8080/"
        },
        "id": "2viSO9dE-D5v",
        "outputId": "a3e61c21-2ac8-4f50-dd04-423c483355ab"
      },
      "execution_count": null,
      "outputs": [
        {
          "output_type": "stream",
          "name": "stdout",
          "text": [
            "[0, 3, 5, 7]\n",
            "16\n"
          ]
        }
      ]
    },
    {
      "cell_type": "code",
      "source": [],
      "metadata": {
        "id": "IDWAbQ7TLHtX"
      },
      "execution_count": null,
      "outputs": []
    }
  ]
}